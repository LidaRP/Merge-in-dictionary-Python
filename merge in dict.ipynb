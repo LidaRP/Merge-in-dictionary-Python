{
 "cells": [
  {
   "cell_type": "code",
   "execution_count": 3,
   "id": "c5b3aefe",
   "metadata": {},
   "outputs": [
    {
     "name": "stdout",
     "output_type": "stream",
     "text": [
      "{1: 10, 2: 20, 3: 30, 4: 40, 5: 50}\n"
     ]
    }
   ],
   "source": [
    "d1 = {1 : 10 , 2 : 20 , 3 : 30} #sample dict\n",
    "d2 = {4 : 40 , 5 : 50} #sample dict\n",
    "\n",
    "lst1 = list(d1.items())\n",
    "lst2 = list(d2.items())\n",
    "\n",
    "lst = lst1 + lst2\n",
    "\n",
    "d = dict(lst)\n",
    "\n",
    "print(d)\n"
   ]
  },
  {
   "cell_type": "code",
   "execution_count": 7,
   "id": "1c198509",
   "metadata": {},
   "outputs": [
    {
     "name": "stdout",
     "output_type": "stream",
     "text": [
      "{1: 10, 2: 20, 3: 30, 4: 40, 5: 50}\n"
     ]
    }
   ],
   "source": [
    "d1 = {1 : 10 , 2 : 20 , 3 : 30}\n",
    "d2 = {4 : 40 , 5 : 50}\n",
    "\n",
    "d = {**d1,**d2}\n",
    "\n",
    "print(d)"
   ]
  },
  {
   "cell_type": "code",
   "execution_count": null,
   "id": "2c25f44b",
   "metadata": {},
   "outputs": [],
   "source": []
  }
 ],
 "metadata": {
  "kernelspec": {
   "display_name": "Python 3 (ipykernel)",
   "language": "python",
   "name": "python3"
  },
  "language_info": {
   "codemirror_mode": {
    "name": "ipython",
    "version": 3
   },
   "file_extension": ".py",
   "mimetype": "text/x-python",
   "name": "python",
   "nbconvert_exporter": "python",
   "pygments_lexer": "ipython3",
   "version": "3.7.9"
  }
 },
 "nbformat": 4,
 "nbformat_minor": 5
}
